{
 "cells": [
  {
   "attachments": {},
   "cell_type": "markdown",
   "metadata": {},
   "source": [
    "### THORLABS CLD1015控制程序"
   ]
  },
  {
   "cell_type": "code",
   "execution_count": 4,
   "metadata": {},
   "outputs": [],
   "source": [
    "# 导入模块\n",
    "import pyvisa"
   ]
  },
  {
   "cell_type": "code",
   "execution_count": 5,
   "metadata": {},
   "outputs": [
    {
     "ename": "VisaIOError",
     "evalue": "VI_ERROR_LIBRARY_NFOUND (-1073807202): A code library required by VISA could not be located or loaded.",
     "output_type": "error",
     "traceback": [
      "\u001b[1;31m---------------------------------------------------------------------------\u001b[0m",
      "\u001b[1;31mVisaIOError\u001b[0m                               Traceback (most recent call last)",
      "Cell \u001b[1;32mIn[5], line 2\u001b[0m\n\u001b[0;32m      1\u001b[0m \u001b[39m# 资源管理器变量 -> rm\u001b[39;00m\n\u001b[1;32m----> 2\u001b[0m rm \u001b[39m=\u001b[39m pyvisa\u001b[39m.\u001b[39;49mResourceManager()\n",
      "File \u001b[1;32mf:\\GitHub\\Repository\\CLD1015\\.v\\lib\\site-packages\\pyvisa\\highlevel.py:3001\u001b[0m, in \u001b[0;36mResourceManager.__new__\u001b[1;34m(cls, visa_library)\u001b[0m\n\u001b[0;32m   2997\u001b[0m     \u001b[39mreturn\u001b[39;00m obj\n\u001b[0;32m   2999\u001b[0m obj \u001b[39m=\u001b[39m \u001b[39msuper\u001b[39m(ResourceManager, \u001b[39mcls\u001b[39m)\u001b[39m.\u001b[39m\u001b[39m__new__\u001b[39m(\u001b[39mcls\u001b[39m)\n\u001b[1;32m-> 3001\u001b[0m obj\u001b[39m.\u001b[39msession, err \u001b[39m=\u001b[39m visa_library\u001b[39m.\u001b[39;49mopen_default_resource_manager()\n\u001b[0;32m   3003\u001b[0m obj\u001b[39m.\u001b[39mvisalib \u001b[39m=\u001b[39m visa_library\n\u001b[0;32m   3004\u001b[0m obj\u001b[39m.\u001b[39mvisalib\u001b[39m.\u001b[39mresource_manager \u001b[39m=\u001b[39m obj\n",
      "File \u001b[1;32mf:\\GitHub\\Repository\\CLD1015\\.v\\lib\\site-packages\\pyvisa\\ctwrapper\\functions.py:1871\u001b[0m, in \u001b[0;36mopen_default_resource_manager\u001b[1;34m(library)\u001b[0m\n\u001b[0;32m   1858\u001b[0m \u001b[39m\u001b[39m\u001b[39m\"\"\"This function returns a session to the Default Resource Manager resource.\u001b[39;00m\n\u001b[0;32m   1859\u001b[0m \n\u001b[0;32m   1860\u001b[0m \u001b[39mCorresponds to viOpenDefaultRM function of the VISA library.\u001b[39;00m\n\u001b[1;32m   (...)\u001b[0m\n\u001b[0;32m   1868\u001b[0m \n\u001b[0;32m   1869\u001b[0m \u001b[39m\"\"\"\u001b[39;00m\n\u001b[0;32m   1870\u001b[0m session \u001b[39m=\u001b[39m ViSession()\n\u001b[1;32m-> 1871\u001b[0m ret \u001b[39m=\u001b[39m library\u001b[39m.\u001b[39;49mviOpenDefaultRM(byref(session))\n\u001b[0;32m   1872\u001b[0m \u001b[39mreturn\u001b[39;00m session\u001b[39m.\u001b[39mvalue, ret\n",
      "File \u001b[1;32mf:\\GitHub\\Repository\\CLD1015\\.v\\lib\\site-packages\\pyvisa\\ctwrapper\\highlevel.py:226\u001b[0m, in \u001b[0;36mIVIVisaLibrary._return_handler\u001b[1;34m(self, ret_value, func, arguments)\u001b[0m\n\u001b[0;32m    223\u001b[0m         \u001b[39m# Set session back to a safe value\u001b[39;00m\n\u001b[0;32m    224\u001b[0m         session \u001b[39m=\u001b[39m \u001b[39mNone\u001b[39;00m\n\u001b[1;32m--> 226\u001b[0m \u001b[39mreturn\u001b[39;00m \u001b[39mself\u001b[39;49m\u001b[39m.\u001b[39;49mhandle_return_value(session, ret_value)\n",
      "File \u001b[1;32mf:\\GitHub\\Repository\\CLD1015\\.v\\lib\\site-packages\\pyvisa\\highlevel.py:251\u001b[0m, in \u001b[0;36mVisaLibraryBase.handle_return_value\u001b[1;34m(self, session, status_code)\u001b[0m\n\u001b[0;32m    248\u001b[0m     \u001b[39mself\u001b[39m\u001b[39m.\u001b[39m_last_status_in_session[session] \u001b[39m=\u001b[39m rv\n\u001b[0;32m    250\u001b[0m \u001b[39mif\u001b[39;00m rv \u001b[39m<\u001b[39m \u001b[39m0\u001b[39m:\n\u001b[1;32m--> 251\u001b[0m     \u001b[39mraise\u001b[39;00m errors\u001b[39m.\u001b[39mVisaIOError(rv)\n\u001b[0;32m    253\u001b[0m \u001b[39mif\u001b[39;00m rv \u001b[39min\u001b[39;00m \u001b[39mself\u001b[39m\u001b[39m.\u001b[39missue_warning_on:\n\u001b[0;32m    254\u001b[0m     \u001b[39mif\u001b[39;00m session \u001b[39mand\u001b[39;00m rv \u001b[39mnot\u001b[39;00m \u001b[39min\u001b[39;00m \u001b[39mself\u001b[39m\u001b[39m.\u001b[39m_ignore_warning_in_session[session]:\n",
      "\u001b[1;31mVisaIOError\u001b[0m: VI_ERROR_LIBRARY_NFOUND (-1073807202): A code library required by VISA could not be located or loaded."
     ]
    }
   ],
   "source": [
    "# 资源管理器变量 -> rm\n",
    "rm = pyvisa.ResourceManager()"
   ]
  },
  {
   "cell_type": "code",
   "execution_count": null,
   "metadata": {},
   "outputs": [],
   "source": [
    "# 显示所用VISA库的位置\n",
    "print(rm)"
   ]
  },
  {
   "cell_type": "code",
   "execution_count": 4,
   "metadata": {},
   "outputs": [
    {
     "data": {
      "text/plain": [
       "()"
      ]
     },
     "execution_count": 4,
     "metadata": {},
     "output_type": "execute_result"
    }
   ],
   "source": [
    "# list_resources()默认值为'?*::'\n",
    "# 要列出所有存在的资源，请将'?*'传递给 list_resourses()\n",
    "rm.list_resources()"
   ]
  },
  {
   "cell_type": "code",
   "execution_count": null,
   "metadata": {},
   "outputs": [],
   "source": [
    "# 将list_resources()的返回列表中的设备名称赋值给变量 -> instr，成为一个可以控制的设备instrument。\n",
    "instr = rm.open_resource('USB0::0x1313::0x804F::M00793223::INSTR')"
   ]
  },
  {
   "cell_type": "code",
   "execution_count": null,
   "metadata": {},
   "outputs": [],
   "source": [
    "# 打印设备的标识，即设备的型号，序列号等信息，instr.query()返回的是字符串类型\n",
    "print(\"Used device:\", instr.query(\"*IDN?\"))"
   ]
  },
  {
   "attachments": {},
   "cell_type": "markdown",
   "metadata": {},
   "source": [
    "source1是设备的通道，设置通道1的电流设定值为0.065A，instr.write()返回的是字符串类型。<br>打印通道1的电流设定值，instr.query()返回的是字符串类型"
   ]
  },
  {
   "cell_type": "code",
   "execution_count": 8,
   "metadata": {},
   "outputs": [
    {
     "data": {
      "text/plain": [
       "39"
      ]
     },
     "execution_count": 8,
     "metadata": {},
     "output_type": "execute_result"
    }
   ],
   "source": [
    "instr.write(\"source1:current:level:amplitude 0.065\")"
   ]
  },
  {
   "cell_type": "code",
   "execution_count": 9,
   "metadata": {},
   "outputs": [
    {
     "name": "stdout",
     "output_type": "stream",
     "text": [
      "Set LD current [A]: 6.500000E-02\n",
      "\n"
     ]
    }
   ],
   "source": [
    "print(\"Set LD current [A]:\", instr.query(\"source1:current:level:amplitude?\"))"
   ]
  },
  {
   "cell_type": "code",
   "execution_count": 7,
   "metadata": {},
   "outputs": [],
   "source": [
    "# 打开LD\n",
    "instr.write(\"output1:state on\")"
   ]
  },
  {
   "cell_type": "code",
   "execution_count": null,
   "metadata": {},
   "outputs": [],
   "source": [
    "# 关闭LD\n",
    "instr.write(\"output1:state off\")"
   ]
  },
  {
   "cell_type": "code",
   "execution_count": 7,
   "metadata": {},
   "outputs": [],
   "source": [
    "#These lines will close the resource manager and the handle to the device.\n",
    "#这些行将关闭资源管理器和设备的句柄。\n",
    "instr.close()"
   ]
  },
  {
   "cell_type": "code",
   "execution_count": null,
   "metadata": {},
   "outputs": [],
   "source": [
    "rm.close()"
   ]
  }
 ],
 "metadata": {
  "kernelspec": {
   "display_name": "v",
   "language": "python",
   "name": "python3"
  },
  "language_info": {
   "codemirror_mode": {
    "name": "ipython",
    "version": 3
   },
   "file_extension": ".py",
   "mimetype": "text/x-python",
   "name": "python",
   "nbconvert_exporter": "python",
   "pygments_lexer": "ipython3",
   "version": "3.10.5"
  },
  "orig_nbformat": 4
 },
 "nbformat": 4,
 "nbformat_minor": 2
}
