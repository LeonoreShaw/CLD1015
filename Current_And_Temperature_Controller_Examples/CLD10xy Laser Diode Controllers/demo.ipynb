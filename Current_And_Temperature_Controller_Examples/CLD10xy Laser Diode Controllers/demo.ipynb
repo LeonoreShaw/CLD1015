{
 "cells": [
  {
   "attachments": {},
   "cell_type": "markdown",
   "metadata": {},
   "source": [
    "1、导入 PyVISA 模块"
   ]
  },
  {
   "cell_type": "code",
   "execution_count": 1,
   "metadata": {},
   "outputs": [],
   "source": [
    "import pyvisa"
   ]
  },
  {
   "attachments": {},
   "cell_type": "markdown",
   "metadata": {},
   "source": [
    "2、Opens a resource manager and shows the available VISA devices.<br>\n",
    "The resource manager is a singleton object, so it is not necessary to close it.<br>\n",
    "打开资源管理器并显示可用的 VISA 设备。<br>\n",
    "资源管理器是一个单例对象，因此不需要关闭它。<br>\n",
    "##### 显示可用的 VISA 设备"
   ]
  },
  {
   "cell_type": "code",
   "execution_count": 2,
   "metadata": {},
   "outputs": [],
   "source": [
    "rm = pyvisa.ResourceManager()"
   ]
  },
  {
   "cell_type": "code",
   "execution_count": 3,
   "metadata": {},
   "outputs": [
    {
     "name": "stdout",
     "output_type": "stream",
     "text": [
      "Resource Manager of Visa Library at C:\\Windows\\system32\\visa32.dll\n"
     ]
    }
   ],
   "source": [
    "print(rm)"
   ]
  },
  {
   "cell_type": "code",
   "execution_count": 4,
   "metadata": {},
   "outputs": [
    {
     "data": {
      "text/plain": [
       "()"
      ]
     },
     "execution_count": 4,
     "metadata": {},
     "output_type": "execute_result"
    }
   ],
   "source": [
    "rm.list_resources()"
   ]
  },
  {
   "attachments": {},
   "cell_type": "markdown",
   "metadata": {},
   "source": [
    "3、Opens the connection to the device. The variable instr is the handle for the device.<br>\n",
    "The 'USB0...' number for a device can e.g. be found in the returned list of rm.list_resources(). <br>\n",
    "打开与设备的连接。变量 instr 是设备的句柄。<br>\n",
    "设备的“USB0...”编号可以在 rm.list_resources() 的返回列表中找到。<br>\n",
    "##### 将list_resources()的返回列表中的设备名称赋值给变量instr"
   ]
  },
  {
   "cell_type": "code",
   "execution_count": 3,
   "metadata": {},
   "outputs": [],
   "source": [
    "instr = rm.open_resource('USB0::0x1313::0x804F::M00793223::INSTR')"
   ]
  },
  {
   "attachments": {},
   "cell_type": "markdown",
   "metadata": {},
   "source": [
    "4、Returns the identification of the device.<br>\n",
    "The command instr.query can be used when you want to get data from the device.<br>\n",
    "返回设备的标识。<br>\n",
    "当您想从设备获取数据时，可以使用命令 instr.query。<br>\n",
    "##### 打印设备的标识，即设备的型号，序列号等信息，instr.query()返回的是字符串类型"
   ]
  },
  {
   "cell_type": "code",
   "execution_count": 4,
   "metadata": {},
   "outputs": [
    {
     "name": "stdout",
     "output_type": "stream",
     "text": [
      "Used device: Thorlabs,CLD1015,M00793223,2.3.0\n",
      "\n"
     ]
    }
   ],
   "source": [
    "print(\"Used device:\", instr.query(\"*IDN?\"))"
   ]
  },
  {
   "attachments": {},
   "cell_type": "markdown",
   "metadata": {},
   "source": [
    "Sets the current setpoint and queries the new setting for confirmation.<br>\n",
    "The command instr.write can be used to write data to the device when you do not expect a response from the device.<br>\n",
    "设置电流设定值并查询新设置以进行确认。<br>\n",
    "命令 instr.write 可用于将数据写入设备，而不需要设备的响应。<br>\n",
    "##### source1是设备的通道，设置通道1的电流设定值为0.065A，instr.write()返回的是字符串类型\n",
    "##### 打印通道1的电流设定值，instr.query()返回的是字符串类型"
   ]
  },
  {
   "cell_type": "code",
   "execution_count": 8,
   "metadata": {},
   "outputs": [
    {
     "data": {
      "text/plain": [
       "39"
      ]
     },
     "execution_count": 8,
     "metadata": {},
     "output_type": "execute_result"
    }
   ],
   "source": [
    "instr.write(\"source1:current:level:amplitude 0.065\")\n"
   ]
  },
  {
   "cell_type": "code",
   "execution_count": 9,
   "metadata": {},
   "outputs": [
    {
     "name": "stdout",
     "output_type": "stream",
     "text": [
      "Set LD current [A]: 6.500000E-02\n",
      "\n"
     ]
    }
   ],
   "source": [
    "print(\"Set LD current [A]:\", instr.query(\"source1:current:level:amplitude?\"))"
   ]
  },
  {
   "cell_type": "code",
   "execution_count": 7,
   "metadata": {},
   "outputs": [],
   "source": [
    "#These lines will close the resource manager and the handle to the device.\n",
    "#这些行将关闭资源管理器和设备的句柄。\n",
    "instr.close()\n"
   ]
  },
  {
   "cell_type": "code",
   "execution_count": null,
   "metadata": {},
   "outputs": [],
   "source": [
    "rm.close()"
   ]
  }
 ],
 "metadata": {
  "kernelspec": {
   "display_name": "v",
   "language": "python",
   "name": "python3"
  },
  "language_info": {
   "codemirror_mode": {
    "name": "ipython",
    "version": 3
   },
   "file_extension": ".py",
   "mimetype": "text/x-python",
   "name": "python",
   "nbconvert_exporter": "python",
   "pygments_lexer": "ipython3",
   "version": "3.10.5"
  },
  "orig_nbformat": 4
 },
 "nbformat": 4,
 "nbformat_minor": 2
}
